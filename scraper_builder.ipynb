{
 "cells": [
  {
   "cell_type": "code",
   "execution_count": 1,
   "metadata": {},
   "outputs": [],
   "source": [
    "from urllib.request import urlopen\n",
    "from bs4 import BeautifulSoup\n",
    "import re\n",
    "import pandas as pd"
   ]
  },
  {
   "cell_type": "markdown",
   "metadata": {},
   "source": [
    "### Portland, Oregon"
   ]
  },
  {
   "cell_type": "code",
   "execution_count": 2,
   "metadata": {},
   "outputs": [
    {
     "name": "stdout",
     "output_type": "stream",
     "text": [
      "Father of fraudster urges judge to send son to prison for maximum time possible: ‘I am ashamed of him.’Father of fraudster urges judge to send son to prison for maximum time possible: ‘I am ashamed of him.’38m agoMaxine Bernstein | The Oregonian/OregonLive\n",
      "Suspect arrested in fatal hit-and-run near St. Johns Bridge that police say was intentionalSuspect arrested in fatal hit-and-run near St. Johns Bridge that police say was intentional1h agoJayati Ramakrishnan | The Oregonian/OregonLive\n"
     ]
    }
   ],
   "source": [
    "oregonlive = urlopen('https://www.oregonlive.com/portland/')\n",
    "oregonlive_soup = BeautifulSoup(oregonlive, 'html.parser')\n",
    "titles = oregonlive_soup.find_all('article', class_='two-box-item')\n",
    "\n",
    "articles = []\n",
    "\n",
    "for title in titles:\n",
    "    print(title.text)"
   ]
  },
  {
   "cell_type": "code",
   "execution_count": null,
   "metadata": {},
   "outputs": [],
   "source": []
  }
 ],
 "metadata": {
  "kernelspec": {
   "display_name": "Python 3",
   "language": "python",
   "name": "python3"
  },
  "language_info": {
   "codemirror_mode": {
    "name": "ipython",
    "version": 3
   },
   "file_extension": ".py",
   "mimetype": "text/x-python",
   "name": "python",
   "nbconvert_exporter": "python",
   "pygments_lexer": "ipython3",
   "version": "3.6.3"
  }
 },
 "nbformat": 4,
 "nbformat_minor": 2
}
