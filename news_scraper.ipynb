{
 "cells": [
  {
   "cell_type": "code",
   "execution_count": 38,
   "metadata": {},
   "outputs": [],
   "source": [
    "from urllib.request import urlopen\n",
    "from bs4 import BeautifulSoup\n",
    "import re\n",
    "import sqlite3\n",
    "import datetime\n",
    "from datetime import date\n",
    "import pandas as pd\n",
    "from collections import Counter "
   ]
  },
  {
   "cell_type": "code",
   "execution_count": 2,
   "metadata": {},
   "outputs": [],
   "source": [
    "from nltk.tokenize import word_tokenize\n",
    "import matplotlib.pyplot as plt\n",
    "%matplotlib inline"
   ]
  },
  {
   "cell_type": "markdown",
   "metadata": {},
   "source": [
    "## Mobile, Alabama News Sources"
   ]
  },
  {
   "cell_type": "code",
   "execution_count": 3,
   "metadata": {},
   "outputs": [],
   "source": [
    "def al_data_title_scraper():\n",
    "    al_data = urlopen('https://www.al.com/')\n",
    "    al_soup = BeautifulSoup(al_data, 'html.parser')\n",
    "    articles = al_soup.find_all('article')\n",
    "    regex_pattern = r'\\d+[hm]\\sago'\n",
    "    titles = []\n",
    "    \n",
    "    for i in articles:\n",
    "        titles.append(i.text)\n",
    "        \n",
    "    titles = [x.strip(regex_pattern).lstrip().rstrip() for x in titles]\n",
    "    titles = [i for i in set(titles)]\n",
    "    \n",
    "    return titles"
   ]
  },
  {
   "cell_type": "code",
   "execution_count": 4,
   "metadata": {},
   "outputs": [],
   "source": [
    "def fox_10_news_scraper():\n",
    "    fox_10_news = urlopen('https://www.fox10tv.com/')\n",
    "    fox_10_news_soup = BeautifulSoup(fox_10_news, 'html.parser')\n",
    "    fox_titles = fox_10_news_soup.find_all('a', class_='tnt-asset-link')\n",
    "    remove_list = ['Tracking the Tropics', '1st & 10','COVID-19 Headlines', 'Back to School', 'News Now Update', 'Our Apps', 'News Now Livestream']\n",
    "    regex_pattern = r'\\d:\\d\\d'\n",
    "    \n",
    "    local_fox_titles = []\n",
    "    for i in fox_titles:\n",
    "        local_fox_titles.append(i.text.rstrip().lstrip())\n",
    "        \n",
    "    final_fox_titles = []\n",
    "    for i in local_fox_titles:\n",
    "        if i == '' or re.match(regex_pattern, i):\n",
    "            pass\n",
    "        elif i in remove_list:\n",
    "            pass\n",
    "        else:\n",
    "            final_fox_titles.append(i)\n",
    "            \n",
    "    return final_fox_titles"
   ]
  },
  {
   "cell_type": "markdown",
   "metadata": {},
   "source": [
    "## Birmingham, Alabama News Scrapers"
   ]
  },
  {
   "cell_type": "code",
   "execution_count": 5,
   "metadata": {},
   "outputs": [],
   "source": [
    "### Birmingham, Alabama\n",
    "def wbrc_scraper():\n",
    "    wbrc_birmingham = urlopen('https://www.wbrc.com/')\n",
    "    wbrc_soup = BeautifulSoup(wbrc_birmingham, 'html.parser')\n",
    "    new_titles = wbrc_soup.find_all('a',class_='unstyled-link')\n",
    "    \n",
    "    cleaned_titles = []\n",
    "    \n",
    "    for i in new_titles:\n",
    "        cleaned_titles.append(i.text.rstrip().lstrip())\n",
    "        \n",
    "    return cleaned_titles"
   ]
  },
  {
   "cell_type": "code",
   "execution_count": 6,
   "metadata": {},
   "outputs": [],
   "source": [
    "def al_birmingham_scraper():\n",
    "    al_birmingham = urlopen('https://www.al.com/birmingham/')\n",
    "    al_soup = BeautifulSoup(al_birmingham, 'html.parser')\n",
    "    articles = al_soup.find_all('article')\n",
    "\n",
    "    for i in articles:\n",
    "        regex_pattern = r'\\d+[hm]\\sago'\n",
    "        titles = []\n",
    "    \n",
    "        for i in articles:\n",
    "            titles.append(i.text)\n",
    "        \n",
    "        titles = [x.strip(regex_pattern).lstrip().rstrip() for x in titles]\n",
    "        titles = [i for i in set(titles)]\n",
    "    \n",
    "        return titles"
   ]
  },
  {
   "cell_type": "code",
   "execution_count": 46,
   "metadata": {},
   "outputs": [
    {
     "data": {
      "text/plain": [
       "[\"What Nick Saban had to say following Alabama's 41-24 win over Georgia and former Asst. Kirby Smart\",\n",
       " 'How to get a good night’s sleep: Dear Annie',\n",
       " \"Which Hard Seltzer Is The Best? | Bless Your RankMatt tackles the huge new craze of spiked seltzers. Watch him try as many as he can stand so you don't have to!\",\n",
       " 'Woman indicted in crash that killed elderly Tuscaloosa couple48m',\n",
       " 'Over 1,300 cast ballots in ‘historic’ Jeffco Saturday voting1h',\n",
       " 'A few extra observations, context to Alabama’s win over GeorgiaAlabama beat No. 3 Georgia 41-24 on Saturday night. We take a second look at things every Sunday.23h',\n",
       " 'Ratcliffe: NY Post’s Hunter Biden story isn’t Russian disinformation2h',\n",
       " 'Auto supplier expanding in two Alabama cities, creating 182 jobsInternational Automotive Components is based in Luxembourg.6h',\n",
       " 'Amber Alert cancelled; 2 Mississippi boys found safePolice officials say Kaiden Wall, 6, and Kolden Wall, 2, are safe and their mother, 33-year-old Sarah Lynn Caswell, is in custody.5h',\n",
       " 'Madison County Confederate monument to be moved soon?6h',\n",
       " 'Police: Man arrested after 5-year-old shoots self with father’s gunAntonio Francois, 30, was arrested on charges of reckless endangerment.56m',\n",
       " 'Does Doug Jones support abortion ‘up until birth’?2h',\n",
       " 'Alabama-Georgia rivalry inspires prank on ‘Idol’ set1h',\n",
       " 'Dear Annie: Neighbor’s rude comment has upset my morning routine',\n",
       " \"Gus Malzahn reviews Auburn's loss to South Carolina20h\",\n",
       " \"New Biloxi resort could bring 2,500 jobs, open in 2023Biloxi mayor says UMusic Broadwater 'could be to the South what Atlantis is to the Bahamas'\",\n",
       " 'SEC Insider: Alabama rocks Georgia to sleep, 41-24: Nick outsmarts Kirby5h',\n",
       " \"How would a Sen. Tuberville serve if there’s no Trump?Tuberville's campaign strategy is to embrace the president and his agenda. But polling suggest that while Tuberville is a favorite to defeat ...9h\",\n",
       " 'Dear Abby: Family friend fears young woman is addicted to met',\n",
       " 'Alabama rapper Yung Bleu, superstar Drake release singleDrake adds verse to remix of Mobile native\\'s song \"You\\'re Mines Still\"',\n",
       " 'Auburn beset by penalty problems through 4 weeks3h',\n",
       " \"How is Alabama doing in the fight against COVID? Here's a look at the numbers5h\",\n",
       " 'Locker room video shows raw emotion of beating Georgi',\n",
       " 'Trader Joe’s already under construction in HuntsvilleThe popular grocery chain is expected to be a magnet to bring people to the Rocket City.4h',\n",
       " 'UAH president meets, apologizes to Black teenThe teen\\'s mother said last week that her son was pulled over by a UAH campus officer who repeatedly asked whether he had \"crack\" or a \"dead ...1h',\n",
       " 'Has Bo Nix regressed? Cole Cubelic weighs in4h',\n",
       " 'Woman fatally mauled by pack of dogs in Walker County7m',\n",
       " \"What Kirby Smart had to say following Georgia's 41-24 loss to AlabamaGeorgia head coach Kirby Smart addresses the media following the Bulldogs' 41-24 loss at Alabama.\",\n",
       " 'Dear Annie: My wife has lost interest in being intimate and I’m nearing the end of my rope11h',\n",
       " \"What Kirby Smart had to say following Georgia's 41-24 loss to Alab\",\n",
       " 'Second stimulus check: Deadline nearsThe latest update on coronavirus stimulus payments.10h',\n",
       " 'Stone Cold wants to have beers with 3 menSteve Austin is a huge college football fan.9h',\n",
       " 'Reports: Tennessee fires D-line coach Jimmy Brumbaugh17h',\n",
       " 'How the evacuation of a nursing home in Alabama spread coronavirusIn July, a nursing home overcome by coronavirus evacuated patients to Trussville, where the virus followed10h',\n",
       " 'Police: Man says he has COVID, coughs on copJeffrey Bartlett, 33, was also arrested for driving under the influence.1h',\n",
       " 'Tampa Bay trades for former Troy standoutThe Buccaneers have acquired nose tackle Steve McLendon from the New York Jets.3h',\n",
       " \"Patrick Surtain and Najee Harris address the media Monday ahead of Alabama's trip to Tennessee2h\",\n",
       " 'Alabama adds 859 coronavirus cases5h',\n",
       " 'What was Tua Tagovailoa doing on field after his debut?The former Alabama All-American got his first NFL action with the Miami Dolphins on Sunday.18h',\n",
       " \"Meet the chef who's making hot chicken cool in Alab\",\n",
       " \"See Alabama fans swarm Strip, Walk of Champions before Georgia kickoffHere's what pregame looked like in Tuscaloosa.\",\n",
       " 'SEC winners and losers of Week 4Every Monday, AL.com takes a look at the good and bad of the week in the SEC.7h',\n",
       " \"Saban loved celebration, hates idea of big wins feeling routineThere was an emotional release following Alabama's win over Georgia on Saturday night.2h\",\n",
       " \"Alabama libraries want to return post-pandemic worldAlabama's public library systems were among the first things to shut down during the pandemic and are still making their way back8h\",\n",
       " 'D.J. Williams helping Tigers as he recovers1h',\n",
       " 'For one Alabama senator, too little daycare regulation is still too much6h',\n",
       " 'White House tells Tennessee ‘statewide mask mandate must be implemented’9h',\n",
       " 'Dear Abby: Man’s distaste for girlfriend’s daughter, old photos, puts relationship in questionHis girlfriend often shows him pictures of her daughter asking \"Isn\\'t she cute?\"14h',\n",
       " 'LSU QB Myles Brennan dealing with ‘significant’ injury4h',\n",
       " 'Check out Tua Tagovailoa’s first NFL completion22h',\n",
       " 'Brittany Smith talks about pleading guilty to shooting alleged rapistAn Alabama woman will be out of jail some time next spring. Rather than roll the dice at trial, where she could face up to life in prison if ...6h',\n",
       " 'Hear what Nick Saban had to say Monday as the Tide prepares for a week 5 trip to Tennessee3h',\n",
       " 'Isbell: Why not ask Beach Boys to ‘shut up and sing’?2h',\n",
       " 'See the trailer: Viola Davis spot on in Netflix’s nod to Alabama blues legend2h',\n",
       " \"Patrick Surtain and Najee Harris address the media Monday ahead of Alabama's trip to TennesseeAlabama DB Patrick Surtain and RB Najee Harris address the media Monday following the Crimson Tide's win over Georgia, as the team prepares for a week ...2h\",\n",
       " 'Man armed with toy gun robbed Etowah County store, authorities sayAuthorities said Monday David Martin Coshatt was armed with a toy gun when he robbed Ball Play Grocery on Saturday. He is accused of holding the store ...37m',\n",
       " 'Doctor sentenced to 15 years in pill mill case5h',\n",
       " 'Dr. Scott Harris talks about plans for distributing COVID-19 vaccine',\n",
       " \"Reba McEntire to star in 'Fried Green Tomatoes' TV show\",\n",
       " 'Trump says Fauci is ‘a disaster’ in call to campaign staffers4h',\n",
       " 'What Will Muschamp said after South Carolina upset AuburnWill Muschamp speaks to reporters after his South Carolina Gamecocks upset No. 15 Auburn on Saturday.',\n",
       " 'Mystery of Rama Jama’s stolen script-A solved44m',\n",
       " \"Statistically speaking: Auburn's passing attack lacking7h\",\n",
       " 'Karson Logan Birthday Party',\n",
       " 'SEC Insider: Auburn stumbles at South Carolina, drops out of Top-255h',\n",
       " 'Dear Annie: How do I get over someone who has hurt me but I’m still in love with?',\n",
       " 'Bham celebs to read bedtime stories for a good cause',\n",
       " 'Mobile police looking for teen missing for over a month6h',\n",
       " 'Mobile Greyhound Park settles case on fatal DUI crash7m',\n",
       " 'Which Hard Seltzer Is The Best? | Bless Your Rank',\n",
       " \"Dear Abby: Next door neighbor’s outside smoking seeps into their livesThey don't know the neighbors, but often get their second-hand smoke when windows are open\",\n",
       " 'Saban: Dylan Moses played ‘extremely well’ vs. Georgia1h',\n",
       " 'Where Alabama lands in national stat rankingsAlabama leads the nation in third-down offensive efficiency through four games.8h',\n",
       " '‘Music can go places words cannot:’ Mobile Symphony takes the stageAfter making extensive COVID adjustments, orchestra finds an audience5h',\n",
       " \"Alabama NFL roundup: Derrick Henry runs for 212 yardsOn the sixth Sunday of the NFL's 2020 season, 40 Alabama alumni got on the field.15h\",\n",
       " \"Dear Annie: How should weddings be handled during a pandemic?In today's Dear Annie column, Annie Lane hears from a mom who is disappointed she won't be at her son's wedding.\",\n",
       " \"Odds project Bama to make College Football PlayoffDespite a potential SEC championship game rematch, Alabama's odds to win the national championship shrunk significantly after beating Georgia.5h\",\n",
       " \"Dear Abby: Wife is done being messenger between husband and his momWhen her mother-in-law can't get through to her son, she contacts his wife\",\n",
       " 'Power 25: Crucial Top 10 matchups could reshape rankings5h',\n",
       " 'The Mullet Toss is on: Quirky coastal event set for Oct. 23-25',\n",
       " 'What Will Muschamp said after South Carolina upset Auburn',\n",
       " 'Jeffrey Toobin suspended after exposing himself in Zoom meeting57m',\n",
       " \"Auburn focuses on correcting trash talkAuburn football coach Gus Malzahn said it's not like his team to talk so much trash, and they're focused on correcting that.9h\",\n",
       " 'Alabama opens as 3-score favorite over Tennessee22h',\n",
       " '2 killed in separate weekend traffic crashes in Jefferson CountyThe Jefferson County Coroner’s Office on Monday identified the victims as Karen Jean Hickley, 57, and Kelly Louis Moss, 51.8h']"
      ]
     },
     "execution_count": 46,
     "metadata": {},
     "output_type": "execute_result"
    }
   ],
   "source": [
    "al_birmingham_scraper()"
   ]
  },
  {
   "cell_type": "markdown",
   "metadata": {},
   "source": [
    "### Huntsville, Alabama - News Scrapers"
   ]
  },
  {
   "cell_type": "code",
   "execution_count": null,
   "metadata": {},
   "outputs": [],
   "source": [
    "### Grab news from Huntsville\n"
   ]
  },
  {
   "cell_type": "markdown",
   "metadata": {},
   "source": [
    "### Database Functions (Will be moved)"
   ]
  },
  {
   "cell_type": "code",
   "execution_count": 7,
   "metadata": {},
   "outputs": [],
   "source": [
    "def show_all_data():\n",
    "    con = sqlite3.connect('news.db')\n",
    "    cursor = con.cursor()\n",
    "    cursor.execute('SELECT * from news_titles')\n",
    "    titles = cursor.fetchall()\n",
    "    con.close()\n",
    "    return titles"
   ]
  },
  {
   "cell_type": "code",
   "execution_count": 8,
   "metadata": {},
   "outputs": [],
   "source": [
    "def grab_titles():\n",
    "    title_list = []\n",
    "    dirty_data = pd.Series(show_headlines())\n",
    "    for i in dirty_data:\n",
    "        title_list.append(i[0])\n",
    "    return pd.Series(title_list)"
   ]
  },
  {
   "cell_type": "code",
   "execution_count": 9,
   "metadata": {},
   "outputs": [],
   "source": [
    "def show_headlines():\n",
    "    con = sqlite3.connect('news.db')\n",
    "    cursor = con.cursor()\n",
    "    cursor.execute('SELECT article_title from news_titles')\n",
    "    titles = cursor.fetchall()\n",
    "    con.close()\n",
    "    return titles"
   ]
  },
  {
   "cell_type": "code",
   "execution_count": 10,
   "metadata": {},
   "outputs": [],
   "source": [
    "def add_headlines(titles, source):\n",
    "    today = date.today()\n",
    "    weekday = datetime.datetime.now().strftime(\"%A\")\n",
    "    for i in titles:\n",
    "        con = sqlite3.connect('news.db')\n",
    "        cursor = con.cursor()\n",
    "        cursor.execute('INSERT INTO news_titles (article_title, source, weekday, date) VALUES (?,?,?,?)', (i, source, weekday, today))\n",
    "        con.commit()\n",
    "        \n",
    "    con.close()"
   ]
  },
  {
   "cell_type": "code",
   "execution_count": 11,
   "metadata": {},
   "outputs": [],
   "source": [
    "def run_all():\n",
    "    al_headlines_main = al_data_title_scraper()\n",
    "    add_headlines(al_headlines_main, 'www.al.com')\n",
    "    fox_10_headlines = fox_10_news_scraper()\n",
    "    add_headlines(fox_10_headlines, 'www.fox10tv.com')\n",
    "    wbrc_headlines = wbrc_scraper()\n",
    "    add_headlines(wbrc_headlines, 'www.wbrc.com/')\n",
    "    \n",
    "    return 'Program has sucessfully scraped and saved the data.'"
   ]
  },
  {
   "cell_type": "code",
   "execution_count": 12,
   "metadata": {},
   "outputs": [
    {
     "data": {
      "text/plain": [
       "'Program has sucessfully scraped and saved the data.'"
      ]
     },
     "execution_count": 12,
     "metadata": {},
     "output_type": "execute_result"
    }
   ],
   "source": [
    "run_all()"
   ]
  },
  {
   "cell_type": "markdown",
   "metadata": {},
   "source": [
    "### Observing the Data that we have collected"
   ]
  },
  {
   "cell_type": "code",
   "execution_count": 117,
   "metadata": {},
   "outputs": [],
   "source": [
    "all_titles = grab_titles()"
   ]
  },
  {
   "cell_type": "code",
   "execution_count": 14,
   "metadata": {},
   "outputs": [],
   "source": [
    "new_str = ''\n",
    "for i in all_titles:\n",
    "    new_str = new_str + i + '\\n'"
   ]
  },
  {
   "cell_type": "code",
   "execution_count": 118,
   "metadata": {},
   "outputs": [],
   "source": [
    "meta_alabama = 0\n",
    "alabama_titles = []\n",
    "football_count = 0\n",
    "football_titles = []\n",
    "covid_count = 0\n",
    "covid_titles = []\n",
    "trump_count = 0\n",
    "trump_titles = []\n",
    "saban_count = 0\n",
    "saban_titles = []\n",
    "misc_titles = []\n",
    "for i in set(all_titles):\n",
    "    if 'Alabama' in i:\n",
    "        meta_alabama +=1\n",
    "        alabama_titles.append(i)\n",
    "    elif 'football' in i:\n",
    "        football_count += 1\n",
    "        football_titles.append(i)\n",
    "    elif 'Trump' in i:\n",
    "        trump_count += 1\n",
    "        trump_titles.append(i)\n",
    "    elif 'COVID' in i:\n",
    "        covid_count += 1\n",
    "        covid_titles.append(i)\n",
    "    elif 'Nick Saban' or 'Saban' in i:\n",
    "        saban_count += 1\n",
    "        saban_titles.append(i)\n",
    "    else:\n",
    "        misc_titles.append(i)"
   ]
  },
  {
   "cell_type": "code",
   "execution_count": 119,
   "metadata": {},
   "outputs": [
    {
     "data": {
      "text/plain": [
       "1738"
      ]
     },
     "execution_count": 119,
     "metadata": {},
     "output_type": "execute_result"
    }
   ],
   "source": [
    "len(set(all_titles))"
   ]
  },
  {
   "cell_type": "code",
   "execution_count": 120,
   "metadata": {},
   "outputs": [
    {
     "data": {
      "text/plain": [
       "275"
      ]
     },
     "execution_count": 120,
     "metadata": {},
     "output_type": "execute_result"
    }
   ],
   "source": [
    "meta_alabama"
   ]
  },
  {
   "cell_type": "code",
   "execution_count": 121,
   "metadata": {},
   "outputs": [
    {
     "data": {
      "text/plain": [
       "47"
      ]
     },
     "execution_count": 121,
     "metadata": {},
     "output_type": "execute_result"
    }
   ],
   "source": [
    "football_count"
   ]
  },
  {
   "cell_type": "code",
   "execution_count": 122,
   "metadata": {},
   "outputs": [
    {
     "data": {
      "text/plain": [
       "82"
      ]
     },
     "execution_count": 122,
     "metadata": {},
     "output_type": "execute_result"
    }
   ],
   "source": [
    "covid_count"
   ]
  },
  {
   "cell_type": "code",
   "execution_count": 123,
   "metadata": {},
   "outputs": [
    {
     "data": {
      "text/plain": [
       "75"
      ]
     },
     "execution_count": 123,
     "metadata": {},
     "output_type": "execute_result"
    }
   ],
   "source": [
    "trump_count"
   ]
  },
  {
   "cell_type": "code",
   "execution_count": 124,
   "metadata": {},
   "outputs": [
    {
     "data": {
      "text/plain": [
       "1259"
      ]
     },
     "execution_count": 124,
     "metadata": {},
     "output_type": "execute_result"
    }
   ],
   "source": [
    "saban_count"
   ]
  },
  {
   "cell_type": "code",
   "execution_count": 125,
   "metadata": {},
   "outputs": [
    {
     "data": {
      "text/plain": [
       "[]"
      ]
     },
     "execution_count": 125,
     "metadata": {},
     "output_type": "execute_result"
    }
   ],
   "source": [
    "misc_titles"
   ]
  },
  {
   "cell_type": "code",
   "execution_count": 61,
   "metadata": {},
   "outputs": [],
   "source": [
    "### There will be a few list that will make up the entire sports spectrum\n",
    "### For example, there will be football words, baseball words, basketball words, etc.\n",
    "\n",
    "# football_positions = ['QB','RB','FB','WR','OT','C','G','TE','DE','DT', 'LB', 'OLB', 'S', 'CB', 'FS']\n",
    "\n",
    "football_words = ['Saban', 'ESPN', 'Alabama football', 'Tide', 'Tide', 'football', 'NFL', 'Auburn football',\n",
    "                 'Nick Saban', 'cornerback', 'vs.', 'players', 'games', 'College Football']\n",
    "\n",
    "crime_words = ['murder', 'shooting', 'killed', 'dead', 'injured', 'homicide', 'gunfire', 'injured', 'beaten', 'death',\n",
    "              'arrested', 'abuse', 'charged']"
   ]
  }
 ],
 "metadata": {
  "kernelspec": {
   "display_name": "Python 3",
   "language": "python",
   "name": "python3"
  },
  "language_info": {
   "codemirror_mode": {
    "name": "ipython",
    "version": 3
   },
   "file_extension": ".py",
   "mimetype": "text/x-python",
   "name": "python",
   "nbconvert_exporter": "python",
   "pygments_lexer": "ipython3",
   "version": "3.6.3"
  }
 },
 "nbformat": 4,
 "nbformat_minor": 2
}
