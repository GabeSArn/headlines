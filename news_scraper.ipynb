{
 "cells": [
  {
   "cell_type": "code",
   "execution_count": 38,
   "metadata": {},
   "outputs": [],
   "source": [
    "from urllib.request import urlopen\n",
    "from bs4 import BeautifulSoup\n",
    "import re\n",
    "import sqlite3\n",
    "import datetime\n",
    "from datetime import date\n",
    "import pandas as pd\n",
    "from collections import Counter "
   ]
  },
  {
   "cell_type": "code",
   "execution_count": 2,
   "metadata": {},
   "outputs": [],
   "source": [
    "from nltk.tokenize import word_tokenize\n",
    "import matplotlib.pyplot as plt\n",
    "%matplotlib inline"
   ]
  },
  {
   "cell_type": "markdown",
   "metadata": {},
   "source": [
    "## Mobile, Alabama News Sources"
   ]
  },
  {
   "cell_type": "code",
   "execution_count": 3,
   "metadata": {},
   "outputs": [],
   "source": [
    "def al_data_title_scraper():\n",
    "    al_data = urlopen('https://www.al.com/')\n",
    "    al_soup = BeautifulSoup(al_data, 'html.parser')\n",
    "    articles = al_soup.find_all('article')\n",
    "    regex_pattern = r'\\d+[hm]\\sago'\n",
    "    titles = []\n",
    "    \n",
    "    for i in articles:\n",
    "        titles.append(i.text)\n",
    "        \n",
    "    titles = [x.strip(regex_pattern).lstrip().rstrip() for x in titles]\n",
    "    titles = [i for i in set(titles)]\n",
    "    \n",
    "    return titles"
   ]
  },
  {
   "cell_type": "code",
   "execution_count": 4,
   "metadata": {},
   "outputs": [],
   "source": [
    "def fox_10_news_scraper():\n",
    "    fox_10_news = urlopen('https://www.fox10tv.com/')\n",
    "    fox_10_news_soup = BeautifulSoup(fox_10_news, 'html.parser')\n",
    "    fox_titles = fox_10_news_soup.find_all('a', class_='tnt-asset-link')\n",
    "    remove_list = ['Tracking the Tropics', '1st & 10','COVID-19 Headlines', 'Back to School', 'News Now Update', 'Our Apps', 'News Now Livestream']\n",
    "    regex_pattern = r'\\d:\\d\\d'\n",
    "    \n",
    "    local_fox_titles = []\n",
    "    for i in fox_titles:\n",
    "        local_fox_titles.append(i.text.rstrip().lstrip())\n",
    "        \n",
    "    final_fox_titles = []\n",
    "    for i in local_fox_titles:\n",
    "        if i == '' or re.match(regex_pattern, i):\n",
    "            pass\n",
    "        elif i in remove_list:\n",
    "            pass\n",
    "        else:\n",
    "            final_fox_titles.append(i)\n",
    "            \n",
    "    return final_fox_titles"
   ]
  },
  {
   "cell_type": "markdown",
   "metadata": {},
   "source": [
    "## Birmingham, Alabama News Scrapers"
   ]
  },
  {
   "cell_type": "code",
   "execution_count": 5,
   "metadata": {},
   "outputs": [],
   "source": [
    "### Birmingham, Alabama\n",
    "def wbrc_scraper():\n",
    "    wbrc_birmingham = urlopen('https://www.wbrc.com/')\n",
    "    wbrc_soup = BeautifulSoup(wbrc_birmingham, 'html.parser')\n",
    "    new_titles = wbrc_soup.find_all('a',class_='unstyled-link')\n",
    "    \n",
    "    cleaned_titles = []\n",
    "    \n",
    "    for i in new_titles:\n",
    "        cleaned_titles.append(i.text.rstrip().lstrip())\n",
    "        \n",
    "    return cleaned_titles"
   ]
  },
  {
   "cell_type": "code",
   "execution_count": 6,
   "metadata": {},
   "outputs": [],
   "source": [
    "def al_birmingham_scraper():\n",
    "    al_birmingham = urlopen('https://www.al.com/birmingham/')\n",
    "    al_soup = BeautifulSoup(al_birmingham, 'html.parser')\n",
    "    articles = al_soup.find_all('article')\n",
    "\n",
    "    for i in articles:\n",
    "        regex_pattern = r'\\d+[hm]\\sago'\n",
    "        titles = []\n",
    "    \n",
    "        for i in articles:\n",
    "            titles.append(i.text)\n",
    "        \n",
    "        titles = [x.strip(regex_pattern).lstrip().rstrip() for x in titles]\n",
    "        titles = [i for i in set(titles)]\n",
    "    \n",
    "        return titles"
   ]
  },
  {
   "cell_type": "markdown",
   "metadata": {},
   "source": [
    "### Huntsville, Alabama - News Scrapers"
   ]
  },
  {
   "cell_type": "code",
   "execution_count": null,
   "metadata": {},
   "outputs": [],
   "source": [
    "### Grab news from Huntsville\n"
   ]
  },
  {
   "cell_type": "markdown",
   "metadata": {},
   "source": [
    "### Database Functions (Will be moved)"
   ]
  },
  {
   "cell_type": "code",
   "execution_count": 7,
   "metadata": {},
   "outputs": [],
   "source": [
    "def show_all_data():\n",
    "    con = sqlite3.connect('news.db')\n",
    "    cursor = con.cursor()\n",
    "    cursor.execute('SELECT * from news_titles')\n",
    "    titles = cursor.fetchall()\n",
    "    con.close()\n",
    "    return titles"
   ]
  },
  {
   "cell_type": "code",
   "execution_count": 8,
   "metadata": {},
   "outputs": [],
   "source": [
    "def grab_titles():\n",
    "    title_list = []\n",
    "    dirty_data = pd.Series(show_headlines())\n",
    "    for i in dirty_data:\n",
    "        title_list.append(i[0])\n",
    "    return pd.Series(title_list)"
   ]
  },
  {
   "cell_type": "code",
   "execution_count": 9,
   "metadata": {},
   "outputs": [],
   "source": [
    "def show_headlines():\n",
    "    con = sqlite3.connect('news.db')\n",
    "    cursor = con.cursor()\n",
    "    cursor.execute('SELECT article_title from news_titles')\n",
    "    titles = cursor.fetchall()\n",
    "    con.close()\n",
    "    return titles"
   ]
  },
  {
   "cell_type": "code",
   "execution_count": 10,
   "metadata": {},
   "outputs": [],
   "source": [
    "def add_headlines(titles, source):\n",
    "    today = date.today()\n",
    "    weekday = datetime.datetime.now().strftime(\"%A\")\n",
    "    for i in titles:\n",
    "        con = sqlite3.connect('news.db')\n",
    "        cursor = con.cursor()\n",
    "        cursor.execute('INSERT INTO news_titles (article_title, source, weekday, date) VALUES (?,?,?,?)', (i, source, weekday, today))\n",
    "        con.commit()\n",
    "        \n",
    "    con.close()"
   ]
  },
  {
   "cell_type": "code",
   "execution_count": 11,
   "metadata": {},
   "outputs": [],
   "source": [
    "def run_all():\n",
    "    al_headlines_main = al_data_title_scraper()\n",
    "    add_headlines(al_headlines_main, 'www.al.com')\n",
    "    fox_10_headlines = fox_10_news_scraper()\n",
    "    add_headlines(fox_10_headlines, 'www.fox10tv.com')\n",
    "    wbrc_headlines = wbrc_scraper()\n",
    "    add_headlines(wbrc_headlines, 'www.wbrc.com/')\n",
    "    \n",
    "    return 'Program has sucessfully scraped and saved the data.'"
   ]
  },
  {
   "cell_type": "code",
   "execution_count": 12,
   "metadata": {},
   "outputs": [
    {
     "data": {
      "text/plain": [
       "'Program has sucessfully scraped and saved the data.'"
      ]
     },
     "execution_count": 12,
     "metadata": {},
     "output_type": "execute_result"
    }
   ],
   "source": [
    "run_all()"
   ]
  },
  {
   "cell_type": "markdown",
   "metadata": {},
   "source": [
    "### Observing the Data that we have collected"
   ]
  },
  {
   "cell_type": "code",
   "execution_count": 13,
   "metadata": {},
   "outputs": [],
   "source": [
    "all_titles = grab_titles()"
   ]
  },
  {
   "cell_type": "code",
   "execution_count": 14,
   "metadata": {},
   "outputs": [],
   "source": [
    "new_str = ''\n",
    "for i in all_titles:\n",
    "    new_str = new_str + i + '\\n'"
   ]
  },
  {
   "cell_type": "code",
   "execution_count": 17,
   "metadata": {},
   "outputs": [],
   "source": [
    "meta_alabama = 0\n",
    "football_count = 0\n",
    "for i in all_titles:\n",
    "    if 'Alabama' in i:\n",
    "        meta_alabama +=1\n",
    "    elif 'football' in i:\n",
    "        football_count += 1"
   ]
  },
  {
   "cell_type": "code",
   "execution_count": 20,
   "metadata": {},
   "outputs": [
    {
     "data": {
      "text/plain": [
       "2460"
      ]
     },
     "execution_count": 20,
     "metadata": {},
     "output_type": "execute_result"
    }
   ],
   "source": [
    "len(all_titles)"
   ]
  },
  {
   "cell_type": "code",
   "execution_count": 18,
   "metadata": {},
   "outputs": [
    {
     "data": {
      "text/plain": [
       "359"
      ]
     },
     "execution_count": 18,
     "metadata": {},
     "output_type": "execute_result"
    }
   ],
   "source": [
    "meta_alabama"
   ]
  },
  {
   "cell_type": "code",
   "execution_count": 19,
   "metadata": {},
   "outputs": [
    {
     "data": {
      "text/plain": [
       "60"
      ]
     },
     "execution_count": 19,
     "metadata": {},
     "output_type": "execute_result"
    }
   ],
   "source": [
    "football_count"
   ]
  },
  {
   "cell_type": "code",
   "execution_count": 61,
   "metadata": {},
   "outputs": [],
   "source": [
    "### There will be a few list that will make up the entire sports spectrum\n",
    "### For example, there will be football words, baseball words, basketball words, etc.\n",
    "\n",
    "# football_positions = ['QB','RB','FB','WR','OT','C','G','TE','DE','DT', 'LB', 'OLB', 'S', 'CB', 'FS']\n",
    "\n",
    "football_words = ['Saban', 'ESPN', 'Alabama football', 'Tide', 'Tide', 'football', 'NFL', 'Auburn football',\n",
    "                 'Nick Saban', 'cornerback', 'vs.', 'players', 'games', 'College Football']\n",
    "\n",
    "crime_words = ['murder', 'shooting', 'killed', 'dead', 'injured', 'homicide', 'gunfire', 'injured', 'beaten', 'death',\n",
    "              'arrested', 'abuse', 'charged']"
   ]
  }
 ],
 "metadata": {
  "kernelspec": {
   "display_name": "Python 3",
   "language": "python",
   "name": "python3"
  },
  "language_info": {
   "codemirror_mode": {
    "name": "ipython",
    "version": 3
   },
   "file_extension": ".py",
   "mimetype": "text/x-python",
   "name": "python",
   "nbconvert_exporter": "python",
   "pygments_lexer": "ipython3",
   "version": "3.6.3"
  }
 },
 "nbformat": 4,
 "nbformat_minor": 2
}
