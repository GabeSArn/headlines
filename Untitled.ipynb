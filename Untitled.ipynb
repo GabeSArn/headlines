{
 "cells": [
  {
   "cell_type": "code",
   "execution_count": 4,
   "metadata": {},
   "outputs": [
    {
     "name": "stdout",
     "output_type": "stream",
     "text": [
      "5\n",
      "8\n",
      "10\n",
      "15\n",
      "16\n",
      "20\n",
      "24\n",
      "25\n",
      "30\n",
      "32\n",
      "35\n",
      "40\n",
      "45\n",
      "48\n",
      "50\n",
      "55\n",
      "56\n",
      "60\n",
      "64\n",
      "65\n",
      "70\n",
      "72\n",
      "75\n",
      "80\n",
      "85\n",
      "88\n",
      "90\n",
      "95\n",
      "96\n",
      "100\n"
     ]
    },
    {
     "data": {
      "text/plain": [
       "30"
      ]
     },
     "execution_count": 4,
     "metadata": {},
     "output_type": "execute_result"
    }
   ],
   "source": [
    "len([print(i) for i in range(1,101) if i%8==0 or i%5==0])"
   ]
  },
  {
   "cell_type": "code",
   "execution_count": null,
   "metadata": {},
   "outputs": [],
   "source": []
  }
 ],
 "metadata": {
  "kernelspec": {
   "display_name": "Python 3",
   "language": "python",
   "name": "python3"
  },
  "language_info": {
   "codemirror_mode": {
    "name": "ipython",
    "version": 3
   },
   "file_extension": ".py",
   "mimetype": "text/x-python",
   "name": "python",
   "nbconvert_exporter": "python",
   "pygments_lexer": "ipython3",
   "version": "3.6.3"
  }
 },
 "nbformat": 4,
 "nbformat_minor": 2
}
